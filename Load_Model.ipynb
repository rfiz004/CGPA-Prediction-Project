{
 "cells": [
  {
   "cell_type": "code",
   "execution_count": 1,
   "id": "871dca8c-11dc-45ed-ae68-5524e1e31bca",
   "metadata": {},
   "outputs": [],
   "source": [
    "import joblib"
   ]
  },
  {
   "cell_type": "code",
   "execution_count": 9,
   "id": "3d7e8917-34e6-40c0-8f83-30abdc196db4",
   "metadata": {},
   "outputs": [],
   "source": [
    "def CGPA_model(prev_sem_result):\n",
    "    CGPA_M = joblib.load(\"CGPA_Model.pkl\")\n",
    "    inputs = {\"Prev_Sem_Result\":[prev_sem_result]}\n",
    "    predicted = CGPA_M.predict(inputs)[0]\n",
    "    return predicted "
   ]
  },
  {
   "cell_type": "code",
   "execution_count": 11,
   "id": "71d3c00d-b40d-45af-94ff-69cfd4e9efe4",
   "metadata": {},
   "outputs": [
    {
     "name": "stdout",
     "output_type": "stream",
     "text": [
      "CGPA Result:  6.998797417717719\n"
     ]
    }
   ],
   "source": [
    "predicted_cgpa = CGPA_model(7)\n",
    "print(\"CGPA Result: \", predicted_cgpa)"
   ]
  },
  {
   "cell_type": "code",
   "execution_count": null,
   "id": "db9728e2-4c39-4a38-8332-ad4a1a8249f6",
   "metadata": {},
   "outputs": [],
   "source": []
  }
 ],
 "metadata": {
  "kernelspec": {
   "display_name": "Python 3 (ipykernel)",
   "language": "python",
   "name": "python3"
  },
  "language_info": {
   "codemirror_mode": {
    "name": "ipython",
    "version": 3
   },
   "file_extension": ".py",
   "mimetype": "text/x-python",
   "name": "python",
   "nbconvert_exporter": "python",
   "pygments_lexer": "ipython3",
   "version": "3.12.7"
  }
 },
 "nbformat": 4,
 "nbformat_minor": 5
}
